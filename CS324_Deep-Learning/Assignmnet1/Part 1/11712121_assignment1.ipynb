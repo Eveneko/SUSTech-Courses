{
 "cells": [
  {
   "cell_type": "markdown",
   "id": "charitable-tomato",
   "metadata": {},
   "source": [
    "# Assignment1\n",
    "\n",
    "Name: Yubin Hu\n",
    "\n",
    "ID: 11712121"
   ]
  },
  {
   "cell_type": "markdown",
   "id": "cheap-cornwall",
   "metadata": {},
   "source": [
    "## 1 Part I: the perceptron"
   ]
  },
  {
   "cell_type": "markdown",
   "id": "acute-situation",
   "metadata": {},
   "source": [
    "### Code"
   ]
  },
  {
   "cell_type": "code",
   "execution_count": 1,
   "id": "organized-player",
   "metadata": {},
   "outputs": [],
   "source": [
    "import numpy as np\n",
    "import matplotlib.pyplot as plt\n",
    "\n",
    "def gen_gaussian_distribution(size, mean=None, cov=None):\n",
    "    if not mean:\n",
    "        mean = np.random.randn(2)\n",
    "    if not cov:\n",
    "        cov = np.eye(2)\n",
    "    data = np.random.multivariate_normal(mean, cov, size)\n",
    "    return data\n",
    "\n",
    "class Perceptron(object):\n",
    "\n",
    "    def __init__(self, n_inputs, max_epochs=1e2, learning_rate=1e-2):\n",
    "        \"\"\"\n",
    "        Initializes perceptron object.\n",
    "        Args:\n",
    "            n_inputs: number of inputs.\n",
    "            max_epochs: maximum number of training cycles.\n",
    "            learning_rate: magnitude of weight changes at each training cycle\n",
    "        \"\"\"\n",
    "        self.n_inputs = n_inputs\n",
    "        self.max_epochs = max_epochs\n",
    "        self.learning_rate = learning_rate\n",
    "        self.weights = np.zeros(self.n_inputs)\n",
    "        self.bias = 0\n",
    "        \n",
    "        \n",
    "    def forward(self, input):\n",
    "        \"\"\"\n",
    "        Predict label from input \n",
    "        Args:\n",
    "            input: array of dimension equal to n_inputs.\n",
    "        \"\"\"\n",
    "        sum = np.sign(np.dot(input, self.weights))\n",
    "        label = np.where(sum > 0, 1, -1)\n",
    "        return label\n",
    "        \n",
    "    def train(self, training_inputs, labels):\n",
    "        \"\"\"\n",
    "        Train the perceptron\n",
    "        Args:\n",
    "            training_inputs: list of numpy arrays of training points.\n",
    "            labels: arrays of expected output value for the corresponding point in training_inputs.\n",
    "        \"\"\"\n",
    "        train_size = len(training_inputs)\n",
    "        epochs = 0\n",
    "        while epochs < self.max_epochs:\n",
    "            epochs += 1\n",
    "            for i in range(train_size):\n",
    "                if np.any(labels[i] * (np.dot(self.weights, training_inputs[i]) + self.bias) <= 0):\n",
    "                    self.weights = self.weights + (self.learning_rate * labels[i] * training_inputs[i]).T\n",
    "                    self.bias = self.bias + self.learning_rate * labels[i]\n",
    "    \n",
    "    def score(self, test_inputs, test_labels):\n",
    "        pred_arr = np.where(self.forward(test_inputs) > 0, 1, -1)\n",
    "        true_size = len(np.where(pred_arr == test_labels)[0])\n",
    "        return true_size / len(test_labels)\n",
    "    \n",
    "\n",
    "def main():\n",
    "    p = Perceptron(2)\n",
    "    \n",
    "    \"\"\"\n",
    "    gen dataset\n",
    "    \"\"\"\n",
    "    data_size = 100\n",
    "    train_size = 80\n",
    "    x1 = gen_gaussian_distribution(data_size, [5, 5])\n",
    "    x2 = gen_gaussian_distribution(data_size, [-5, -5])\n",
    "    y1 = a_label = np.ones(data_size, dtype=np.int16)\n",
    "    y2 = -y1\n",
    "    x_train = np.concatenate((x1[:train_size], x2[:train_size]), axis=0)\n",
    "    y_train = np.concatenate((y1[:train_size], y2[:train_size]), axis=0)\n",
    "    x_test = np.concatenate((x1[train_size:], x2[train_size:]), axis=0)\n",
    "    y_test = np.concatenate((y1[train_size:], y2[train_size:]), axis=0)\n",
    "    \n",
    "    \"\"\"\n",
    "    train model\n",
    "    \"\"\"\n",
    "    p.train(x_train, y_train)\n",
    "    \n",
    "    \"\"\"\n",
    "    test model\n",
    "    \"\"\"\n",
    "    acc = p.score(x_test, y_test)\n",
    "\n",
    "\n",
    "if __name__ == \"__main__\":\n",
    "    main()"
   ]
  },
  {
   "cell_type": "markdown",
   "id": "tough-hollywood",
   "metadata": {},
   "source": [
    "### 1.1 Task 1\n",
    "\n",
    "> Generate a dataset of points in R2. To do this, define two Gaussian distributions and sample 100 points from each. Your dataset should then contain a total of 200 points, 100 from each distribution. Keep 80 points per distribution as the training (160 in total), 20 for the test (40 in total)."
   ]
  },
  {
   "cell_type": "code",
   "execution_count": 2,
   "id": "acceptable-hamburg",
   "metadata": {},
   "outputs": [
    {
     "data": {
      "image/png": "[encoded data removed]",
      "text/plain": [
       "<Figure size 432x288 with 1 Axes>"
      ]
     },
     "metadata": {
      "needs_background": "light"
     },
     "output_type": "display_data"
    }
   ],
   "source": [
    "\"\"\"\n",
    "gen dataset\n",
    "\"\"\"\n",
    "data_size = 100\n",
    "train_size = 80\n",
    "x1 = gen_gaussian_distribution(data_size, [5, 5])\n",
    "x2 = gen_gaussian_distribution(data_size, [-5, -5])\n",
    "y1 = a_label = np.ones(data_size, dtype=np.int16)\n",
    "y2 = -y1\n",
    "x_train = np.concatenate((x1[:train_size], x2[:train_size]), axis=0)\n",
    "y_train = np.concatenate((y1[:train_size], y2[:train_size]), axis=0)\n",
    "x_test = np.concatenate((x1[train_size:], x2[train_size:]), axis=0)\n",
    "y_test = np.concatenate((y1[train_size:], y2[train_size:]), axis=0)\n",
    "\n",
    "\n",
    "# plt\n",
    "plt.plot(x1[:,0], x1[:,1], 'x')\n",
    "plt.plot(x2[:,0], x2[:,1], 'x')\n",
    "plt.axis('equal')\n",
    "plt.savefig('./img/fig1.png')\n",
    "plt.show()"
   ]
  },
  {
   "cell_type": "markdown",
   "id": "varying-violation",
   "metadata": {},
   "source": [
    "We set `mean1 = [5, 5]` and `mean2 = [-5, -5]`, generate `cov1 and cov2` with `np.eve(2)` which returns a 2-D array with ones on the diagonal and zeros elsewhere."
   ]
  },
  {
   "cell_type": "markdown",
   "id": "resident-column",
   "metadata": {},
   "source": [
    "### 1.2 Task 2\n",
    "\n",
    "> Implement the perceptron following the specs in perceptron.py and the pseudocode in perceptronslides.pdf."
   ]
  },
  {
   "cell_type": "markdown",
   "id": "handled-border",
   "metadata": {},
   "source": [
    "### 1.3 Task 3\n",
    "\n",
    "> Train the perceptron on the training data (160 points) and test in on the remaining 40 test points. Compute the classification accuracy on the test set."
   ]
  },
  {
   "cell_type": "code",
   "execution_count": 3,
   "id": "fundamental-details",
   "metadata": {},
   "outputs": [
    {
     "name": "stdout",
     "output_type": "stream",
     "text": [
      "Perceptron test accuracy: 100.0%\n"
     ]
    }
   ],
   "source": [
    "p = Perceptron(2)\n",
    "\n",
    "\"\"\"\n",
    "gen dataset\n",
    "\"\"\"\n",
    "data_size = 100\n",
    "train_size = 80\n",
    "x1 = gen_gaussian_distribution(data_size, [5, 5])\n",
    "x2 = gen_gaussian_distribution(data_size, [-5, -5])\n",
    "y1 = a_label = np.ones(data_size, dtype=np.int16)\n",
    "y2 = -y1\n",
    "x_train = np.concatenate((x1[:train_size], x2[:train_size]), axis=0)\n",
    "y_train = np.concatenate((y1[:train_size], y2[:train_size]), axis=0)\n",
    "x_test = np.concatenate((x1[train_size:], x2[train_size:]), axis=0)\n",
    "y_test = np.concatenate((y1[train_size:], y2[train_size:]), axis=0)\n",
    "\n",
    "\"\"\"\n",
    "train model\n",
    "\"\"\"\n",
    "p.train(x_train, y_train)\n",
    "\n",
    "\"\"\"\n",
    "test model\n",
    "\"\"\"\n",
    "acc = p.score(x_test, y_test)\n",
    "\n",
    "print(f'Perceptron test accuracy: {acc * 100}%')"
   ]
  },
  {
   "cell_type": "markdown",
   "id": "iraqi-joining",
   "metadata": {},
   "source": [
    "### 1.4 Task 4\n",
    "\n",
    "> Experiment with different sets of points (generated as described in Task 1). What happens during the training if the means of the two Gaussians are too close and/or if their variance is too high?"
   ]
  },
  {
   "cell_type": "code",
   "execution_count": 4,
   "id": "delayed-torture",
   "metadata": {},
   "outputs": [
    {
     "name": "stdout",
     "output_type": "stream",
     "text": [
      "Perceptron test accuracy: 47.5%\n",
      "Perceptron test accuracy: 52.5%\n",
      "Perceptron test accuracy: 50.0%\n",
      "Perceptron test accuracy: 60.0%\n",
      "Perceptron test accuracy: 57.49999999999999%\n",
      "Perceptron test accuracy: 45.0%\n",
      "Perceptron test accuracy: 55.00000000000001%\n",
      "Perceptron test accuracy: 47.5%\n",
      "Perceptron test accuracy: 52.5%\n",
      "Perceptron test accuracy: 57.49999999999999%\n"
     ]
    }
   ],
   "source": [
    "for _ in range(10):\n",
    "    p = Perceptron(2)\n",
    "\n",
    "    \"\"\"\n",
    "    gen dataset\n",
    "    \"\"\"\n",
    "    data_size = 100\n",
    "    train_size = 80\n",
    "    x1 = gen_gaussian_distribution(data_size, [1, 1])\n",
    "    x2 = gen_gaussian_distribution(data_size, [1, 1])\n",
    "    y1 = a_label = np.ones(data_size, dtype=np.int16)\n",
    "    y2 = -y1\n",
    "    x_train = np.concatenate((x1[:train_size], x2[:train_size]), axis=0)\n",
    "    y_train = np.concatenate((y1[:train_size], y2[:train_size]), axis=0)\n",
    "    x_test = np.concatenate((x1[train_size:], x2[train_size:]), axis=0)\n",
    "    y_test = np.concatenate((y1[train_size:], y2[train_size:]), axis=0)\n",
    "\n",
    "    \"\"\"\n",
    "    train model\n",
    "    \"\"\"\n",
    "    p.train(x_train, y_train)\n",
    "\n",
    "    \"\"\"\n",
    "    test model\n",
    "    \"\"\"\n",
    "    acc = p.score(x_test, y_test)\n",
    "\n",
    "    print(f'Perceptron test accuracy: {acc * 100}%')"
   ]
  },
  {
   "cell_type": "markdown",
   "id": "becoming-weekend",
   "metadata": {},
   "source": [
    "We run 10 times for the close Gaussians([1, 1], [1, 1]), and accuracy is lower then 50%."
   ]
  },
  {
   "cell_type": "code",
   "execution_count": 5,
   "id": "racial-buying",
   "metadata": {},
   "outputs": [
    {
     "name": "stdout",
     "output_type": "stream",
     "text": [
      "Perceptron test accuracy: 85.0%\n",
      "Perceptron test accuracy: 97.5%\n",
      "Perceptron test accuracy: 97.5%\n",
      "Perceptron test accuracy: 97.5%\n",
      "Perceptron test accuracy: 97.5%\n",
      "Perceptron test accuracy: 97.5%\n",
      "Perceptron test accuracy: 97.5%\n",
      "Perceptron test accuracy: 100.0%\n",
      "Perceptron test accuracy: 92.5%\n",
      "Perceptron test accuracy: 90.0%\n"
     ]
    }
   ],
   "source": [
    "for _ in range(10):\n",
    "    p = Perceptron(2)\n",
    "\n",
    "    \"\"\"\n",
    "    gen dataset\n",
    "    \"\"\"\n",
    "    data_size = 100\n",
    "    train_size = 80\n",
    "    x1 = gen_gaussian_distribution(data_size, [-5, -5])\n",
    "    x2 = gen_gaussian_distribution(data_size, [1, 1])\n",
    "    y1 = a_label = np.ones(data_size, dtype=np.int16)\n",
    "    y2 = -y1\n",
    "    x_train = np.concatenate((x1[:train_size], x2[:train_size]), axis=0)\n",
    "    y_train = np.concatenate((y1[:train_size], y2[:train_size]), axis=0)\n",
    "    x_test = np.concatenate((x1[train_size:], x2[train_size:]), axis=0)\n",
    "    y_test = np.concatenate((y1[train_size:], y2[train_size:]), axis=0)\n",
    "\n",
    "    \"\"\"\n",
    "    train model\n",
    "    \"\"\"\n",
    "    p.train(x_train, y_train)\n",
    "\n",
    "    \"\"\"\n",
    "    test model\n",
    "    \"\"\"\n",
    "    acc = p.score(x_test, y_test)\n",
    "\n",
    "    print(f'Perceptron test accuracy: {acc * 100}%')"
   ]
  },
  {
   "cell_type": "markdown",
   "id": "amended-memorial",
   "metadata": {},
   "source": [
    "We run 10 times for the Gaussians with high variance([-5, -5], [1, 1]), and accuracy is higher then the close Gaussians, over 90%."
   ]
  }
 ],
 "metadata": {
  "kernelspec": {
   "display_name": "Python 3",
   "language": "python",
   "name": "python3"
  },
  "language_info": {
   "codemirror_mode": {
    "name": "ipython",
    "version": 3
   },
   "file_extension": ".py",
   "mimetype": "text/x-python",
   "name": "python",
   "nbconvert_exporter": "python",
   "pygments_lexer": "ipython3",
   "version": "3.7.7"
  }
 },
 "nbformat": 4,
 "nbformat_minor": 5
}
